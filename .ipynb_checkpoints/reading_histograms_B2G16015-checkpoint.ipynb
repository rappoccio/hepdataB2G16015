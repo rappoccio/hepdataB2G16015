{
 "cells": [
  {
   "cell_type": "markdown",
   "metadata": {},
   "source": [
    "# B2G-16-015 Plots\n",
    "\n",
    "This plots the $m_{t\\overline{t}}$ spectra for [B2G-16-015 (JHEP 1707 (2017) 001)](http://inspirehep.net/record/1591147). "
   ]
  },
  {
   "cell_type": "code",
   "execution_count": 1,
   "metadata": {},
   "outputs": [
    {
     "name": "stdout",
     "output_type": "stream",
     "text": [
      "Welcome to JupyROOT 6.12/04\n",
      "<hepdata_lib.Submission object at 0x1113b5590>\n"
     ]
    }
   ],
   "source": [
    "from hepdata_lib import Submission, Variable, Uncertainty\n",
    "submission = Submission()\n",
    "\n",
    "submission.read_abstract(\"example_inputs/B2G-16-015/abstract.txt\")\n",
    "submission.add_link(\"Webpage with all figures and tables\", \"https://cms-results.web.cern.ch/cms-results/public-results/publications/B2G-16-015/\")\n",
    "submission.add_link(\"arXiv\", \"https://arxiv.org/abs/1704.03366\")\n",
    "submission.add_record_id(1591147, \"inspire\")\n",
    "\n",
    "print submission"
   ]
  },
  {
   "cell_type": "markdown",
   "metadata": {},
   "source": [
    "## Get histograms, put into dict"
   ]
  },
  {
   "cell_type": "code",
   "execution_count": 2,
   "metadata": {
    "scrolled": true
   },
   "outputs": [
    {
     "name": "stdout",
     "output_type": "stream",
     "text": [
      "Categories to tables: \n",
      "{'btag3': 'Figure 5d', 'ele_t0B1': 'Figure 4b', 'ele_t0b0': 'Figure 4c', 'btag4': 'Figure 5e', 'btag0': 'Figure 5a', 'ele_T1B0': 'Figure 4a', 'btag2': 'Figure 5c', 'btag1': 'Figure 5b', 'muo_T1B0': 'Figure 4d', 'muo_t0b0': 'Figure 4f', 'muo_t0B1': 'Figure 4e'}\n"
     ]
    }
   ],
   "source": [
    "from hepdata_lib import RootFileReader\n",
    "\n",
    "# Define the readers\n",
    "reader_ljets  = RootFileReader(\"example_inputs/B2G-16-015/hists_ljets_B2G16015.root\")\n",
    "reader_allhad = RootFileReader(\"example_inputs/B2G-16-015/hists_allhad_B2G16015.root\")\n",
    "reader_ljets_sig = RootFileReader(\"example_inputs/B2G-16-015/ljets_signals_rebinned.root\")\n",
    "reader_allhad_sig = RootFileReader(\"example_inputs/B2G-16-015/allhad_signals.root\")\n",
    "\n",
    "\n",
    "# Get the various species\n",
    "var_ljets = 'L1chi2lo_mtt'\n",
    "leps_ljets = ['ele', 'muo']\n",
    "cats_ljets = ['T1B0', 't0B1', 't0b0']\n",
    "bkgs_ljets = ['_ttbar', '_dibos', '_zjets', '_sitop', '_wjetH', '_wjetL']\n",
    "sigs_ljets = []\n",
    "for mod in ['zpn']:#, 'zpw', 'zph', 'kkg']:    \n",
    "    sigs_ljets +=  ['_%s%04d' % (mod, d) for d in [500,750,1000,1250,1500,2000,2500,3000,3500,4000]]\n",
    "sigs_allhad = []\n",
    "for mod in ['Zprime']:#, 'zpw', 'zph', 'kkg']:    \n",
    "    sigs_allhad +=  ['_%s%04d' % (mod, d) for d in [1000,1250,1500,2000,2500,3000,3500,4000]]\n",
    "cats_allhad = ['btag%s' % i for i in xrange(5)]\n",
    "bkgs_allhad = ['_ttbar', '_qcd']\n",
    "datastr = 'DATA'\n",
    "\n",
    "hists = {}\n",
    "cats_to_tables = {}  # Which category belongs to which figure\n",
    "figlabels = 'abcdef'\n",
    "\n",
    "# Lepton+jets histograms\n",
    "ifig=0\n",
    "for lep in leps_ljets : \n",
    "    for cat in cats_ljets : \n",
    "        cats_to_tables[ \"%s_%s\" % (lep,cat)] = \"Figure 4%s\" % (figlabels[ifig])\n",
    "        ifig+=1\n",
    "        for exp in bkgs_ljets + [datastr] : \n",
    "            s = \"%s_%s_%s_%s\" % (lep, cat, var_ljets, exp)\n",
    "            #print s\n",
    "            hists[s] = reader_ljets.read_hist_1d( s )\n",
    "            #print hists[s]\n",
    "        for sig in sigs_ljets : \n",
    "            s = \"%s_%s_%s_%s\" % (lep, cat, var_ljets, sig)\n",
    "            #print s\n",
    "            hists[s] = reader_ljets_sig.read_hist_1d( s )\n",
    "            #print hists[s]\n",
    "\n",
    "# All-hadronic histograms\n",
    "ifig = 0\n",
    "for cat in cats_allhad :\n",
    "    cats_to_tables[ \"%s\" % (cat)] = \"Figure 5%s\" % (figlabels[ifig])\n",
    "    ifig+=1\n",
    "    for exp in bkgs_allhad + [datastr] : \n",
    "        s = \"%s_%s\" % ( cat, exp )\n",
    "        #print s\n",
    "        hists[s] = reader_allhad.read_hist_1d( s, force_symmetric_errors=True )\n",
    "        #print hists[s]\n",
    "    for sig in sigs_allhad : \n",
    "        s = \"%s_%s\" % (cat, sig)\n",
    "        #print s\n",
    "        hists[s] = reader_allhad_sig.read_hist_1d( s )\n",
    "        #print hists[s]\n",
    "        \n",
    "        \n",
    "print \"Categories to tables: \"\n",
    "print cats_to_tables"
   ]
  },
  {
   "cell_type": "markdown",
   "metadata": {},
   "source": [
    "### Make Dictionary for Tables"
   ]
  },
  {
   "cell_type": "code",
   "execution_count": 3,
   "metadata": {},
   "outputs": [],
   "source": [
    "from hepdata_lib import Table\n",
    "\n",
    "figs = [ s for s in figlabels]\n",
    "locations = ['upper left', 'upper right', 'middle left', 'middle right', 'lower left', 'lower right']\n",
    "locations_figs = dict( zip(figs, locations) )\n",
    "tables = {}"
   ]
  },
  {
   "cell_type": "code",
   "execution_count": null,
   "metadata": {},
   "outputs": [],
   "source": []
  },
  {
   "cell_type": "markdown",
   "metadata": {},
   "source": [
    "### Figure 4 on Page 13 (lepton+jets channel)"
   ]
  },
  {
   "cell_type": "code",
   "execution_count": 4,
   "metadata": {},
   "outputs": [
    {
     "name": "stdout",
     "output_type": "stream",
     "text": [
      "Processing  ele_T1B0\n",
      "<hepdata_lib.Table object at 0x1230b9a10>\n",
      "Processing  ele_t0B1\n",
      "<hepdata_lib.Table object at 0x111c02e90>\n",
      "Processing  ele_t0b0\n",
      "<hepdata_lib.Table object at 0x1230b9ad0>\n",
      "Processing  muo_T1B0\n",
      "<hepdata_lib.Table object at 0x1230b9b10>\n",
      "Processing  muo_t0B1\n",
      "<hepdata_lib.Table object at 0x1230b9b50>\n",
      "Processing  muo_t0b0\n",
      "<hepdata_lib.Table object at 0x1230b9b90>\n"
     ]
    }
   ],
   "source": [
    "\n",
    "for fig in 'abcdef':\n",
    "    table = 'Figure 4%s' % fig\n",
    "    tables[table] = Table(table)\n",
    "    tables[table].description = \"Distributions in $\\mttbar$\\\n",
    "for data and expected background, for events passing\\\n",
    "the signal selection of the lepton+jets analysis ($\\chi^{2}<30$) after the maximum likelihood fit.\\\n",
    "Distributions are shown for the muon (left) and electron (right) channel.\\\n",
    "For each lepton flavor, events are split into three exclusive categories\\\n",
    "(from uppermost to lowest):\\\n",
    "$\\It$,\\\n",
    "$\\OtIb$, and\\\n",
    "$\\OtOb$.\\\n",
    "The signal templates are normalized to a cross section of 1\\unit{pb}.\\\n",
    "The uncertainties associated with the background expectation include\\\n",
    "the statistical and all post-fit systematic uncertainties.\\\n",
    "The lower panel in each figure shows the ratio of data to predicted SM background, with\\\n",
    "the statistical (light gray) and\\\n",
    "total (dark gray) uncertainties shown separately.\"\n",
    "    tables[table].location = \"Data from Figure 4 (%s), located on page 13.\" % locations_figs[fig]\n",
    "    tables[table].keywords[\"observables\"] = [\"N\"]\n",
    "    tables[table].add_image(\"example_inputs/B2G-16-015/Figure_004-%s.pdf\" % fig )\n",
    "            \n",
    "mmeds = []\n",
    "sig_vars = []\n",
    "bkg_vars = []\n",
    "unc_bkg_vars = []\n",
    "ttbar_vars = []\n",
    "dibos_vars = []\n",
    "zjets_vars = []\n",
    "wjetH_vars = []\n",
    "wjetL_vars = []\n",
    "data_vars = []\n",
    "\n",
    "for lep in leps_ljets : \n",
    "    for cat in cats_ljets : \n",
    "        ikey = '%s_%s' % (lep,cat)\n",
    "        print 'Processing ', ikey\n",
    "        table = tables[cats_to_tables[ikey]]\n",
    "        print table\n",
    "        # x-axis: ttbar mass\n",
    "        mmed = Variable(\"$M_{t\\overline{t}}$\", is_independent=True, is_binned=False, units=\"GeV\")\n",
    "        mmed.values = hists[\"%s_%s_%s_%s\" % (lep, cat, var_ljets, '_ttbar') ][\"x\"]\n",
    "        table.add_variable(mmed)\n",
    "\n",
    "        for isig in sigs_ljets:\n",
    "            sig = Variable(\"Number of %s events in l+jets / 100 GeV\" % isig, is_independent=False, is_binned=False, units=\"\")\n",
    "            sig.values = hists[\"%s_%s_%s_%s\" % (lep, cat, var_ljets, isig) ]['y']\n",
    "            sig_vars.append(sig)\n",
    "            table.add_variable(sig)\n",
    "\n",
    "        for ibkg in bkgs_ljets:                \n",
    "            bkg = Variable(\"Number of %s events in l+jets / 100 GeV\" % ibkg, is_independent=False, is_binned=False, units=\"\")\n",
    "            unc_bkg = Uncertainty(\"total uncertainty\", is_symmetric=True)\n",
    "            bkg.values = hists[\"%s_%s_%s_%s\" % (lep, cat, var_ljets, ibkg) ][\"y\"]\n",
    "            unc_bkg.values = hists[\"%s_%s_%s_%s\" % (lep, cat, var_ljets, ibkg) ][\"dy\"]\n",
    "            bkg.add_uncertainty( unc_bkg )\n",
    "            bkg_vars.append(bkg)\n",
    "            unc_bkg_vars.append( unc_bkg )\n",
    "            table.add_variable( bkg )\n",
    "\n",
    "        data = Variable(\"Number of data events in l+jets / 100 GeV\", is_independent=False, is_binned=False, units=\"\")\n",
    "        data.values = hists[\"%s_%s_%s_%s\" % (lep, cat, var_ljets, datastr) ][\"y\"]\n",
    "        unc_data = Uncertainty(\"Poisson errors\", is_symmetric=True)\n",
    "        unc_data.values = hists[\"%s_%s_%s_%s\" % (lep, cat, var_ljets, datastr) ][\"dy\"]\n",
    "        data.add_uncertainty(unc_data)   \n",
    "        table.add_variable(data)\n",
    "\n",
    "        submission.add_table(table)    "
   ]
  },
  {
   "cell_type": "markdown",
   "metadata": {},
   "source": [
    "### Figure 5 on Page 14 (all-jets channel)"
   ]
  },
  {
   "cell_type": "code",
   "execution_count": 5,
   "metadata": {},
   "outputs": [
    {
     "name": "stdout",
     "output_type": "stream",
     "text": [
      "Processing  btag0\n",
      "<hepdata_lib.Table object at 0x122877c90>\n",
      "Processing  btag1\n",
      "<hepdata_lib.Table object at 0x114ca5490>\n",
      "Processing  btag2\n",
      "<hepdata_lib.Table object at 0x1228767d0>\n",
      "Processing  btag3\n",
      "<hepdata_lib.Table object at 0x122877cd0>\n",
      "Processing  btag4\n",
      "<hepdata_lib.Table object at 0x122877d10>\n"
     ]
    }
   ],
   "source": [
    "\n",
    "for fig in 'abcdef':\n",
    "    table = 'Figure 5%s' % fig\n",
    "    tables[table] = Table(table)\n",
    "    tables[table].description = \"Distributions in $\\mttbar$\\\n",
    "for data and expected background, for events passing\\\n",
    "the signal selection of the fully hadronic analysis after the maximum likelihood fit.\\\n",
    "Distributions are shown for the regions with $\\abs{\\Delta y} <\\\n",
    "1.0$ (left) and $\\abs{\\Delta y} > 1.0$ (right), for 0, 1, or 2\\\n",
    "subjet b tags (from uppermost to lowest).\\\n",
    "The signal templates are normalized to a cross section of 1\\unit{pb}.\\\n",
    "The uncertainties associated with the background expectation include\\\n",
    "the statistical and all post-fit systematic uncertainties.\\\n",
    "The lower panel in each figure shows the ratio of data to \\\n",
    "predicted SM background, with the statistical (light gray) and total (dark gray)\\\n",
    "uncertainties shown separately.\"\n",
    "    tables[table].location = \"Data from Figure 5 (%s), located on page 14.\" % locations_figs[fig]\n",
    "    tables[table].keywords[\"observables\"] = [\"N\"]\n",
    "    tables[table].add_image(\"example_inputs/B2G-16-015/Figure_005-%s.pdf\" % fig )\n",
    "    \n",
    "    \n",
    "mmeds = []\n",
    "sig_vars = []\n",
    "bkg_vars = []\n",
    "unc_bkg_vars = []\n",
    "ttbar_vars = []\n",
    "ntmj_vars = []\n",
    "data_vars = []\n",
    "\n",
    "\n",
    "for cat in cats_allhad : \n",
    "    ikey = cat\n",
    "    print 'Processing ', ikey\n",
    "    table = tables[cats_to_tables[ikey]]\n",
    "    print table\n",
    "    # x-axis: ttbar mass\n",
    "    mmed = Variable(\"$M_{t\\overline{t}}$\", is_independent=True, is_binned=False, units=\"GeV\")\n",
    "    mmed.values = hists[\"%s_%s\" % (cat, '_ttbar') ][\"x\"]\n",
    "    table.add_variable(mmed)\n",
    "\n",
    "    for isig in sigs_allhad:\n",
    "        sig = Variable(\"Number of %s events in all-had / 100 GeV\" % isig, is_independent=False, is_binned=False, units=\"\")\n",
    "        sig.values = hists[\"%s_%s\" % (cat, isig) ]['y']\n",
    "        sig_vars.append(sig)\n",
    "        table.add_variable(sig)\n",
    "\n",
    "    for ibkg in bkgs_allhad:                \n",
    "        bkg = Variable(\"Number of %s events in all-had / 100 GeV\" % ibkg, is_independent=False, is_binned=False, units=\"\")\n",
    "        unc_bkg = Uncertainty(\"total uncertainty\", is_symmetric=True)\n",
    "        bkg.values = hists[\"%s_%s\" % (cat, ibkg) ][\"y\"]\n",
    "        unc_bkg.values = hists[\"%s_%s\" % (cat, ibkg) ][\"dy\"]\n",
    "        bkg.add_uncertainty( unc_bkg )\n",
    "        bkg_vars.append(bkg)\n",
    "        unc_bkg_vars.append( unc_bkg )\n",
    "        table.add_variable( bkg )\n",
    "\n",
    "\n",
    "    data = Variable(\"Number of data events in all-had / 100 GeV\", is_independent=False, is_binned=False, units=\"\")\n",
    "    data.values = hists[\"%s_%s\" % (cat, datastr) ][\"y\"]\n",
    "    unc_data = Uncertainty(\"Poisson errors\", is_symmetric=True)\n",
    "    \n",
    "    unc_data.values = hists[\"%s_%s\" % (cat, datastr) ][\"dy\"]\n",
    "    data.add_uncertainty(unc_data)   \n",
    "    table.add_variable(data)\n",
    "\n",
    "    submission.add_table(table)        \n"
   ]
  },
  {
   "cell_type": "markdown",
   "metadata": {},
   "source": [
    "### Add the limit tables"
   ]
  },
  {
   "cell_type": "code",
   "execution_count": 6,
   "metadata": {},
   "outputs": [
    {
     "name": "stdout",
     "output_type": "stream",
     "text": [
      "6\n",
      "19\n",
      "1\\% width Zprime\n",
      "7\n",
      "19\n",
      "10\\% width Zprime\n",
      "8\n",
      "19\n",
      "30\\% width Zprime\n",
      "9\n",
      "20\n",
      "RS KK gluon\n"
     ]
    }
   ],
   "source": [
    "import numpy as np\n",
    "\n",
    "limit_tables = {}\n",
    "\n",
    "pages = { 6:19, 7:19, 8:19, 9:20 }\n",
    "hyps = {6:\"1\\% width Zprime\",\n",
    "        7:\"10\\% width Zprime\",\n",
    "        8:\"30\\% width Zprime\",\n",
    "        9:\"RS KK gluon\",\n",
    "       }\n",
    "limitfigs = 'abcd'\n",
    "\n",
    "for i in xrange(6,10):\n",
    "    table = Table(\"Table %d\" % i )\n",
    "    print i\n",
    "    print pages[i]\n",
    "    print hyps[i]\n",
    "    table.description = \"Expected and observed cross section limits at 95%% CL, for the %s resonance hypothesis.\" % (hyps[i])\n",
    "    table.location = \"Table %d, page %d\" % (i, pages[i])\n",
    "    table.add_image(\"example_inputs/B2G-16-015/Figure_006-%s.pdf\" % limitfigs[i-6] )\n",
    "\n",
    "    data_table = np.loadtxt(\"example_inputs/B2G-16-015/table%d.tex\" % i)\n",
    "\n",
    "    tab_m = Variable(\"m_{t\\overline{t}}\", is_independent=True, is_binned=False, units=\"TeV\")\n",
    "    tab_m.values = data_table[:,0]\n",
    "\n",
    "    tab_obs = Variable(\"Observed limits\", is_independent=False, is_binned=False, units=\"pb\")\n",
    "    tab_obs.values = data_table[:,1]\n",
    "\n",
    "    tab_exp = Variable(\"Expected limits\", is_independent=False, is_binned=False, units=\"pb\")\n",
    "    tab_exp.values = data_table[:,4]\n",
    "\n",
    "    # +/- 1 sigma\n",
    "    tab_unc_1s = Uncertainty(\"1 s.d.\", is_symmetric=False)\n",
    "    tab_unc_1s.set_values_from_intervals(zip(data_table[:,3], data_table[:,5]), nominal=tab_exp.values)\n",
    "    tab_exp.add_uncertainty(tab_unc_1s)\n",
    "\n",
    "    # +/- 1 sigma\n",
    "    tab_unc_2s = Uncertainty(\"2 s.d.\", is_symmetric=False)\n",
    "    tab_unc_2s.set_values_from_intervals(zip(data_table[:,2], data_table[:,6]), nominal=tab_exp.values)\n",
    "    tab_exp.add_uncertainty(tab_unc_2s)\n",
    "\n",
    "    table.add_variable(tab_m)\n",
    "    table.add_variable(tab_obs)\n",
    "    table.add_variable(tab_exp)\n",
    "    \n",
    "    submission.add_table(table)    \n"
   ]
  },
  {
   "cell_type": "code",
   "execution_count": null,
   "metadata": {},
   "outputs": [],
   "source": []
  },
  {
   "cell_type": "markdown",
   "metadata": {},
   "source": [
    "### Make the submission itself"
   ]
  },
  {
   "cell_type": "code",
   "execution_count": 7,
   "metadata": {},
   "outputs": [],
   "source": [
    "submission.create_files(\"B2G_16_015_output\")"
   ]
  },
  {
   "cell_type": "code",
   "execution_count": null,
   "metadata": {},
   "outputs": [],
   "source": []
  },
  {
   "cell_type": "code",
   "execution_count": null,
   "metadata": {},
   "outputs": [],
   "source": []
  }
 ],
 "metadata": {
  "kernelspec": {
   "display_name": "Python 3",
   "language": "python",
   "name": "python3"
  },
  "language_info": {
   "codemirror_mode": {
    "name": "ipython",
    "version": 2
   },
   "file_extension": ".py",
   "mimetype": "text/x-python",
   "name": "python",
   "nbconvert_exporter": "python",
   "pygments_lexer": "ipython2",
   "version": "2.7.14"
  }
 },
 "nbformat": 4,
 "nbformat_minor": 2
}
